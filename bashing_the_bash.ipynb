{
 "cells": [
  {
   "cell_type": "markdown",
   "id": "a52bd444-e5cd-40cf-8fe0-c4118d49a431",
   "metadata": {
    "slideshow": {
     "slide_type": "slide"
    },
    "tags": []
   },
   "source": [
    "# Bashing the Bash\n",
    "\n",
    "## Why the Shell is Awful\n",
    "\n",
    "## Writing Safe Shell Scripts\n",
    "\n",
    "\n",
    "Steven F. Lott\n",
    "\n",
    "https://github.com/slott56/bashing-the-bash"
   ]
  },
  {
   "cell_type": "markdown",
   "id": "3e72a40f-08ae-447d-aaa1-438a9cfa43d2",
   "metadata": {
    "slideshow": {
     "slide_type": "slide"
    },
    "tags": []
   },
   "source": [
    "# Agenda\n",
    "\n",
    "1. Why we need the shell\n",
    "\n",
    "2. Why the shell is awful\n",
    "\n",
    "3. What we can do about it\n",
    "\n",
    "    - Some use cases\n",
    "    \n",
    "    - The Safe Shell Script idea"
   ]
  },
  {
   "cell_type": "markdown",
   "id": "ffabd86e-f460-4297-b625-e83489118091",
   "metadata": {
    "slideshow": {
     "slide_type": "slide"
    },
    "tags": []
   },
   "source": [
    "# Link\n",
    "\n",
    "See [https://medium.com/capital-one-tech/bashing-the-bash-replacing-shell-scripts-with-python-d8d201bc0989]\n",
    "\n",
    "I assume you've all studied this."
   ]
  },
  {
   "cell_type": "markdown",
   "id": "3e87a8c2-3459-49b0-af4a-b444d2e621f0",
   "metadata": {
    "slideshow": {
     "slide_type": "slide"
    },
    "tags": []
   },
   "source": [
    "# 1. Why we need the shell\n",
    "\n",
    "The shell is for starting an app\n",
    "\n",
    "What are the alternatives?\n",
    "\n",
    "- `upstart` or `systemd` with the `init.d` directory\n",
    "\n",
    "- `supervisord` [http://supervisord.org]\n",
    "\n",
    "- `getty` -- the login prompt -- which can run an app when you login"
   ]
  },
  {
   "cell_type": "markdown",
   "id": "7a3d67bd-68bc-4e27-90b0-9593fdb50f0a",
   "metadata": {
    "slideshow": {
     "slide_type": "slide"
    },
    "tags": []
   },
   "source": [
    "# Single-app Linux server\n",
    "\n",
    "When booted it runs one and only one app\n",
    "\n",
    "This is how embedded devices work:\n",
    "\n",
    "- Boot will load the kernel (PID=0) and the drivers\n",
    "\n",
    "- Then start the one-and-only app (with PID=1)"
   ]
  },
  {
   "cell_type": "markdown",
   "id": "c3b77fec-8244-402e-b27d-7cead8ccdcb7",
   "metadata": {
    "slideshow": {
     "slide_type": "slide"
    },
    "tags": []
   },
   "source": [
    "# Secure single-app server\n",
    "\n",
    "Use `supervisord`\n",
    "\n",
    "Define the processes you want run in the `/etc/supervisord.conf` file.\n",
    "\n",
    "- Boot will load the kernel and the drivers\n",
    "\n",
    "- Then start `python supervisord` as the one-and-only app\n",
    "\n",
    "- `supervisord` will make sure your processes are *always* running\n",
    "\n",
    "    - e.g., Tornado or GUnicorn or Nginx"
   ]
  },
  {
   "cell_type": "markdown",
   "id": "f667eb4a-aede-4004-8355-fac2f645d421",
   "metadata": {
    "slideshow": {
     "slide_type": "slide"
    },
    "tags": []
   },
   "source": [
    "# Interactive users, however...\n",
    "\n",
    "Developers want to start more than one app\n",
    "\n",
    "- In the olden days of exactly one terminal\n",
    "    \n",
    "    - with exactly one app running\n",
    "    \n",
    "- Start an app; exit the app; start another app\n",
    "\n",
    "This is the use case -- the **only** use case"
   ]
  },
  {
   "cell_type": "markdown",
   "id": "13887b08-dbad-44b4-87af-6bae061a29af",
   "metadata": {
    "slideshow": {
     "slide_type": "slide"
    },
    "tags": []
   },
   "source": [
    "# Let Me Repeat That\n",
    "\n",
    "Here's the **ONLY** use case for the shell.\n",
    "\n",
    "```python\n",
    "import pathlib, subprocess\n",
    "while True:\n",
    "    app = pathlib.Path(input(\"$ \"))\n",
    "    try:\n",
    "        subprocess.run(app)\n",
    "    except Exception as ex:\n",
    "        print(ex)\n",
    "```\n",
    "\n",
    "**Only**"
   ]
  },
  {
   "cell_type": "markdown",
   "id": "aeab559a-9b10-4f77-8277-37ba5850475f",
   "metadata": {
    "slideshow": {
     "slide_type": "slide"
    },
    "tags": []
   },
   "source": [
    "# The shell is complicated\n",
    "\n",
    "To provide a good \"User Experience.\"\n",
    "\n",
    "- The UX is focused on ease-of-use.\n",
    "\n",
    "- Ease of **interactive** use on a Model 33 Teletype <img src=\"Teletype-IMG_7287.jpg\" alt=\"teletype\" width=\"100\" height=\"100\" /> <small>By Rama & Musée Bolo - Own work, CC BY-SA 2.0 fr</small>\n",
    "\n",
    "- Previous Example requires full paths: `/bin/ls`. Not so easy to use.\n",
    "\n",
    "- \"programming\" is (almost) an after-thought."
   ]
  },
  {
   "cell_type": "markdown",
   "id": "7cfe84ac-4f99-437e-bcaa-fb4fab92e369",
   "metadata": {
    "slideshow": {
     "slide_type": "slide"
    },
    "tags": []
   },
   "source": [
    "# Secondary use case\n",
    "\n",
    "## Programming In The Large\n",
    "\n",
    "Knitting a composite \"application system\" from \"application programs\" and \"components\".\n",
    "\n",
    "```sh\n",
    "<input.txt ./app1.py >output1.txt; <output1.txt ./app2.py >output2.txt\n",
    "```\n",
    "\n",
    "Yes, this is valid. The shell is awful."
   ]
  },
  {
   "cell_type": "markdown",
   "id": "d5117e75-3bc3-41c5-a0e0-16514dbbf497",
   "metadata": {
    "slideshow": {
     "slide_type": "slide"
    },
    "tags": []
   },
   "source": [
    "# There's no bright line\n",
    "\n",
    "It's really hard to find a shell feature that's obviously \"over the top\".\n",
    "\n",
    "They're all useful.\n",
    "\n",
    "- When used moderately.\n",
    "\n",
    "My advice is **Safe Shell Scripts are Small**."
   ]
  },
  {
   "cell_type": "markdown",
   "id": "4376eea0-6ce8-4e44-b768-3e47fa61df20",
   "metadata": {
    "slideshow": {
     "slide_type": "slide"
    },
    "tags": []
   },
   "source": [
    "# Script file vs. C code\n",
    "\n",
    "This is where the trouble begins: \"Why write a program?\"\n",
    "\n",
    "Example: Removing a file.\n",
    "\n",
    "- Writing, compile, test, deploy a C program.\n",
    "\n",
    "  It's the `unlink()` function. A dozen lines of code? Fewer?\n",
    "\n",
    "- Use ``/bin/rm`` program that someone else wrote."
   ]
  },
  {
   "cell_type": "markdown",
   "id": "f52c2117-b6a4-422f-b10d-ece24d111ef4",
   "metadata": {
    "jp-MarkdownHeadingCollapsed": true,
    "slideshow": {
     "slide_type": "slide"
    },
    "tags": []
   },
   "source": [
    "# A few more complications\n",
    "\n",
    "An app's \"environment\"...\n",
    "\n",
    "-  Shell environment variables\n",
    "\n",
    "-  The Current Working Directory (expand relative paths to absolute)\n",
    "\n",
    "-  Current user and group\n",
    "\n",
    "-  Effective user and (and group) after setuid\n",
    "\n",
    "-  stdin, stdout, stderr"
   ]
  },
  {
   "cell_type": "markdown",
   "id": "a52215b8-c357-44d7-ad1a-9427f399428c",
   "metadata": {
    "slideshow": {
     "slide_type": "slide"
    },
    "tags": []
   },
   "source": [
    "# Safe Shell Scripts are Small\n",
    "\n",
    "1. Set the environment.\n",
    "\n",
    "2. Start the app.\n",
    "\n",
    "Anything over a few (about 3) lines of code is a bad idea."
   ]
  },
  {
   "cell_type": "code",
   "execution_count": 75,
   "id": "94e8d03b-404f-4722-8d75-60dd82e947e6",
   "metadata": {},
   "outputs": [
    {
     "name": "stdout",
     "output_type": "stream",
     "text": [
      "MyApp Settings\n",
      "MYAPP_LOG='/myapp/db/log'\n",
      "MYAPP_ENV='/myapp/db/prod'\n",
      "MYAPP_HOME='/Users/slott/Documents/Writing/Python/Bashing the Bash/myapp-v1.2.3'\n"
     ]
    }
   ],
   "source": [
    "%%sh\n",
    "\n",
    "# myapp.sh\n",
    "export MYAPP_HOME='/Users/slott/Documents/Writing/Python/Bashing the Bash/myapp-v1.2.3'\n",
    "source \"${MYAPP_HOME}/env_prod.sh\"\n",
    "python \"${MYAPP_HOME}/myapp\" $*"
   ]
  },
  {
   "cell_type": "markdown",
   "id": "d36cc0c6-e6a1-4192-af31-4f956a8717e9",
   "metadata": {
    "slideshow": {
     "slide_type": "slide"
    },
    "tags": []
   },
   "source": [
    "# 2. Why The Shell Is Awful\n",
    "\n",
    "- No unit test framework\n",
    "\n",
    "- Only data structure is a string (split on spaces to make a list-like thing.)\n",
    "\n",
    "- Bizarro-world syntax and quoting rules\n",
    "\n",
    "- No easy way to have stateful objects\n",
    "\n",
    "- Resource intensive run-time\n",
    "\n",
    "- Quality Issues\n",
    "\n",
    "  - testability (i.e., no unit test framework)\n",
    "  \n",
    "  - too much configurability (Tweaking the script just this once)\n",
    "  \n",
    "  - reliability (worked for me)"
   ]
  },
  {
   "cell_type": "markdown",
   "id": "c17874de-a1b0-4c56-96d0-3cd81a9ab5c1",
   "metadata": {
    "slideshow": {
     "slide_type": "slide"
    },
    "tags": []
   },
   "source": [
    "# What the shell does well\n",
    "\n",
    "Concurrent Pipelines.\n",
    "\n",
    "```sh\n",
    "app1.py <input.txt | app2.py >output2.txt\n",
    "```\n",
    "\n",
    "More General Concurrent Processing.\n",
    "\n",
    "```sh\n",
    "app1.py <input.txt & app2.py <output1.txt\n",
    "```"
   ]
  },
  {
   "cell_type": "markdown",
   "id": "c2cb5ae0-1c2a-4435-8abc-d0a78cb1352a",
   "metadata": {
    "slideshow": {
     "slide_type": "slide"
    },
    "tags": []
   },
   "source": [
    "# Process algebra\n",
    "\n",
    "- `a & b`  concurrently\n",
    "- `a | b`  connected as a pipeline\n",
    "- `a ; b` sequentially\n",
    "- `a && b` conditionally if a succeeds\n",
    "- `a || b` conditionally if a fails\n",
    "- `(a & b) >log && c` Applying the redirect to the composite of two steps\n",
    "\n",
    "These are cool.\n",
    "\n",
    "Stay safe. Keep them **small**."
   ]
  },
  {
   "cell_type": "markdown",
   "id": "b6086bb9-60ad-49d4-84b9-52ce74fe0728",
   "metadata": {
    "slideshow": {
     "slide_type": "slide"
    },
    "tags": []
   },
   "source": [
    "# No unit testing\n",
    "\n",
    "Do you have a unit testing framework for your shell scripts?\n",
    "\n",
    "The answer is almost always \"no\" and 😭 that's why people like them.\n",
    "\n",
    "(There are some unit testing frameworks. It's not **impossible**.)\n",
    "\n",
    "Realistically, it's easier to test code with mock OS objects than to mess with a shell script where you forgot a mock and **oopsie** trashed the database."
   ]
  },
  {
   "cell_type": "markdown",
   "id": "82427954-b9ff-42d5-8b03-03b3974195f2",
   "metadata": {
    "slideshow": {
     "slide_type": "slide"
    },
    "tags": []
   },
   "source": [
    "# 3. What Can We Do?\n",
    "\n",
    "```sh\n",
    "echo What about ${MY_FAVORITE_FEATURE}?\n",
    "```"
   ]
  },
  {
   "cell_type": "markdown",
   "id": "44117b79-0ba9-40be-b5b3-8a01e17a9237",
   "metadata": {
    "slideshow": {
     "slide_type": "slide"
    },
    "tags": []
   },
   "source": [
    "# Did you mean this?\n",
    "\n",
    "```python\n",
    "import os; print(f\"What about {os.environ['MY_FAVORITE_FEATURE']}?\")\n",
    "```"
   ]
  },
  {
   "cell_type": "markdown",
   "id": "ef06ad9b-19e2-4846-8818-14114ee1b7ea",
   "metadata": {
    "slideshow": {
     "slide_type": "slide"
    },
    "tags": []
   },
   "source": [
    "# What About Unit Tests?\n",
    "\n",
    "Good point...\n",
    "\n",
    "```python\n",
    "\"\"\"What about my favorite feature notification\n",
    "\n",
    ">>> os.environ['MY_FAVORITE_FEATURE'] = \"echo\"\n",
    ">>> main()\n",
    "What about echo?\n",
    "\"\"\"\n",
    "import os\n",
    "def main() -> None:\n",
    "    print(f\"What about {os.environ['MY_FAVORITE_FEATURE']}?\")\n",
    "if __name__ == \"__main__\":\n",
    "    main()\n",
    "```"
   ]
  },
  {
   "cell_type": "markdown",
   "id": "3c32ad15-1384-44a0-82b5-ebd430a7dedf",
   "metadata": {
    "slideshow": {
     "slide_type": "slide"
    },
    "tags": []
   },
   "source": [
    "# It's so long...  😭\n",
    "\n",
    "It has a test case.\n",
    "\n",
    "It runs on all OS's.\n",
    "\n",
    "A stand-alone \"echo\" program is a symptom of \"shell first\" thinking.\n",
    "\n",
    "- Why did you need echo?\n",
    "\n",
    "- Debugging?  Logging?  Audit?\n",
    "\n",
    "- Focus on the **real** use case. Ask \"Why?\" five times.\n",
    "\n",
    "Remember: No One Wins at Code Golf"
   ]
  },
  {
   "cell_type": "markdown",
   "id": "04171403-7eae-4831-824a-e23f2e89b573",
   "metadata": {
    "slideshow": {
     "slide_type": "slide"
    },
    "tags": []
   },
   "source": [
    "# Use cases for the shell\n",
    "\n",
    "- The two-char commands: `mv`, `rm`, `cp` to perform file-system operations\n",
    "\n",
    "- Conditional Processing: `if-fi`, `&&`, `||`, `case-esac`\n",
    "\n",
    "- Iterative Processing: `while-do-done`, `for-do-done`\n",
    "\n",
    "- Math (Seriously?)\n",
    "\n",
    "- Date/Time\n",
    "\n",
    "- The `find` Command: A nested world of horror\n",
    "\n",
    "- The `grep` | `sed` | `awk` unholy mess of fake programming\n",
    "\n",
    "- Parsing JSON/HTML/XML/TOML/CSV etc.\n",
    "\n",
    "- Concurrent Pipelines: `app | app` and `app & app`"
   ]
  },
  {
   "cell_type": "markdown",
   "id": "40634315-434b-4188-9cb9-e334e30aedc0",
   "metadata": {
    "slideshow": {
     "slide_type": "slide"
    },
    "tags": []
   },
   "source": [
    "# Filesystem operations\n",
    "\n",
    "- `mv a b` is `pathlib.Path(\"a\").rename(\"b\")`\n",
    "\n",
    "- `rm a` is `pathlib.Path(\"a\").unlink()`\n",
    "\n",
    "- `cp a b` is tricky. (`--preserve` in particular.)\n",
    "\n",
    "    - Often, it's this:\n",
    "    \n",
    "      ```python\n",
    "      pathlib.Path(\"b\").write_bytes(pathlib.Path(\"a\").read_bytes())\n",
    "      ```\n",
    "    \n",
    "    - If you want the `--preserve` semantics, use `shutil`.\n",
    "    \n",
    "There's a limit: `mount`, `unmount`, etc., aren't simple path manipulations."
   ]
  },
  {
   "cell_type": "markdown",
   "id": "cc282e08-2168-4d9b-b0fa-5929c4d44d7c",
   "metadata": {
    "slideshow": {
     "slide_type": "slide"
    },
    "tags": []
   },
   "source": [
    "# Conditional Processing\n",
    "\n",
    "So many syntax alternatives. `if-fi`, `&&`, `||`, `case-esac`\n",
    "\n",
    "The shell is awful.\n",
    "\n",
    "Python has `if` and `match`. Use those.\n",
    "\n",
    "Consider this\n",
    "\n",
    "```sh\n",
    "app1.py <input.txt >output.txt && cp output.txt ${BACKUP}/output.txt\n",
    "```\n",
    "\n",
    "First. Why doesn't `app1` handle this \"save a backup copy\"? \n",
    "\n",
    "Seriously. Why constrain `app1` to stdout **only**? Why separate the \"backup\" consideration?"
   ]
  },
  {
   "cell_type": "code",
   "execution_count": 41,
   "id": "cc9be4d7-ba31-4236-b56a-5e88083cb7df",
   "metadata": {
    "slideshow": {
     "slide_type": "slide"
    },
    "tags": []
   },
   "outputs": [],
   "source": [
    "import pathlib\n",
    "import subprocess\n",
    "import os\n",
    "\n",
    "def app1() -> int:\n",
    "    with pathlib.Path(\"input.txt\").open() as input:\n",
    "        with pathlib.Path(\"output.txt\").open(\"w\") as output:\n",
    "            p = subprocess.run([\"python\", \"app1.py\"], stdin=input, stdout=output, check=False)\n",
    "    return p.returncode\n",
    "\n",
    "def cp() -> int:\n",
    "    source = pathlib.Path(\"output.txt\")\n",
    "    target = pathlib.Path(os.environ.get(\"BACKUP\", \"/tmp\")) / source.name\n",
    "    target.write_bytes(source.read_bytes())\n",
    "    return 0\n",
    "        \n",
    "def main() -> None:\n",
    "    r1 = app1()\n",
    "    if r1 == 0:  # The && operator\n",
    "        r2 = cp()\n",
    "        # exit(r2)  # Spooks Jupyter Lab\n",
    "\n",
    "if __name__ == \"__main__\":\n",
    "    main()"
   ]
  },
  {
   "cell_type": "markdown",
   "id": "caaaaa2d-e7dc-4653-87fa-0e3120873c8e",
   "metadata": {
    "slideshow": {
     "slide_type": "slide"
    },
    "tags": []
   },
   "source": [
    "# It's too much code\n",
    "\n",
    "It's **testable** code.\n",
    "\n",
    "It's readable code.\n",
    "\n",
    "It's **slighly** faster than the shell.\n",
    "\n",
    "You can ``import`` this module when doing \"programming in the large.\"\n",
    "\n",
    "Most important: Want logging? Audit? Debugging? \n",
    "\n",
    "- You can add that to an app.\n",
    "\n",
    "- You'll often struggle to add it everywhere it's needed in a script\n",
    "\n",
    "Remember: No One Wins at Code Golf"
   ]
  },
  {
   "cell_type": "markdown",
   "id": "9f646369-8f39-4945-902f-9cac19ccb561",
   "metadata": {
    "slideshow": {
     "slide_type": "slide"
    },
    "tags": []
   },
   "source": [
    "# Iterative processsing\n",
    "\n",
    "```sh\n",
    "for f in *.txt\n",
    "do\n",
    "    nm=${f##.*}\n",
    "    b=${n%.*}\n",
    "    e=${n##*.}\n",
    "    app2.py ${f} >${b}_a2.${e} || echo \"Problem with ${f}\"\n",
    "done\n",
    "```\n",
    "\n",
    "This is Audit? Debugging? What's really going on?\n",
    "\n",
    "Is it okay the return code from ``app2.py`` is lost?\n",
    "\n",
    "And where does this log go? What's done with it? Who does the remedial processing?\n",
    "\n",
    "Ask \"Why?\". Repeatedly."
   ]
  },
  {
   "cell_type": "code",
   "execution_count": 42,
   "id": "0c96110a-8828-44d1-bb5f-0717777493be",
   "metadata": {
    "slideshow": {
     "slide_type": "slide"
    },
    "tags": []
   },
   "outputs": [],
   "source": [
    "import pathlib\n",
    "import subprocess\n",
    "import os\n",
    "\n",
    "def app2(file: pathlib.Path) -> int:\n",
    "    output_path = pathlib.Path.cwd() / f\"{file.stem}_a2{file.suffix}\"\n",
    "    with file.open() as input:\n",
    "        with output_path.open('w') as output:\n",
    "            p = subprocess.run([\"python\", \"app2.py\"], stdin=input, stdout=output, check=False)\n",
    "    return p.returncode\n",
    "\n",
    "def echo(file: pathlib.Path) -> int:\n",
    "    print(f\"Problem with {file!s}\")\n",
    "    return 0\n",
    "\n",
    "def main() -> None:\n",
    "    for f in pathlib.Path.cwd().glob(\"*.txt\"):\n",
    "        r1 = app2(f)\n",
    "        if r1 != 0:  # The || operator\n",
    "            r2 = echo()\n",
    "    # exit(0)\n",
    "\n",
    "if __name__ == \"__main__\":\n",
    "    main()"
   ]
  },
  {
   "cell_type": "markdown",
   "id": "a59baf8e-ae29-4ed2-99c3-69ff3435e5b2",
   "metadata": {
    "slideshow": {
     "slide_type": "slide"
    },
    "tags": []
   },
   "source": [
    "# Math\n",
    "\n",
    "You cannot rationally do math with the shell.\n",
    "\n",
    "The `expr` program is crazy.\n",
    "\n",
    "The `test` program, also known as `[`, is crazier.\n",
    "\n",
    "The `dc` and `bc` programs are obscure.\n",
    "\n",
    "If you think you need `awk`. Stop. Draw the line there and use Python."
   ]
  },
  {
   "cell_type": "markdown",
   "id": "69d31f60-3718-46b2-a5be-1a0ecf81ae66",
   "metadata": {
    "slideshow": {
     "slide_type": "slide"
    },
    "tags": []
   },
   "source": [
    "This, however, is ok:\n",
    "\n",
    "Technically, not the shell. Mostly a feature of GNU/Linux."
   ]
  },
  {
   "cell_type": "code",
   "execution_count": 46,
   "id": "33e7420d-2b0f-411d-bbc0-c83282b9b340",
   "metadata": {},
   "outputs": [
    {
     "name": "stdout",
     "output_type": "stream",
     "text": [
      "3.14159\n"
     ]
    }
   ],
   "source": [
    "%%sh \n",
    "\n",
    "dc -e '5k 355 113 / p'"
   ]
  },
  {
   "cell_type": "markdown",
   "id": "d405444b-a163-48ba-95a3-315fe42808cc",
   "metadata": {
    "slideshow": {
     "slide_type": "slide"
    },
    "tags": []
   },
   "source": [
    "# Date/Time\n",
    "\n",
    "Who hasn't done this?\n",
    "\n",
    "```sh\n",
    "dt=`date +\"%Y-%m-%d\"`\n",
    "log=${dt}.log\n",
    "```"
   ]
  },
  {
   "cell_type": "markdown",
   "id": "a6ab2207-73a4-431b-af68-0c5df1853187",
   "metadata": {
    "slideshow": {
     "slide_type": "slide"
    },
    "tags": []
   },
   "source": [
    "# Making filenames \n",
    "\n",
    "Where you can handle exceptions and edge cases cleanly."
   ]
  },
  {
   "cell_type": "code",
   "execution_count": 49,
   "id": "eee15760-ffd7-4792-99bc-0df599cf6b73",
   "metadata": {
    "tags": []
   },
   "outputs": [
    {
     "data": {
      "text/plain": [
       "PosixPath('/Users/slott/Documents/Writing/Python/Bashing the Bash/2022-06-12.log')"
      ]
     },
     "execution_count": 49,
     "metadata": {},
     "output_type": "execute_result"
    }
   ],
   "source": [
    "import datetime\n",
    "import pathlib\n",
    "\n",
    "def log_path() -> pathlib.Path:\n",
    "    now = datetime.datetime.now(datetime.timezone.utc)\n",
    "    path = (\n",
    "        pathlib.Path.cwd() / now.strftime(\"%Y-%m-%d\")\n",
    "    ).with_suffix(\".log\")\n",
    "    return path\n",
    "\n",
    "log_path()"
   ]
  },
  {
   "cell_type": "markdown",
   "id": "b5c00e68-c655-4667-a860-0d52767ced27",
   "metadata": {
    "slideshow": {
     "slide_type": "slide"
    },
    "tags": []
   },
   "source": [
    "# The `find` command\n",
    "\n",
    "This is an entire script in a unique, distinct syntax. The shell is awful.\n",
    "\n",
    "```sh\n",
    "find . -name '*.txt' -exec app2.py <{} >{}.out \\;\n",
    "```\n",
    "\n",
    "The relevant feature is recursive descent through a directory tree."
   ]
  },
  {
   "cell_type": "markdown",
   "id": "ba717090-bb00-4f4a-b7f0-2c2dd708ea09",
   "metadata": {
    "slideshow": {
     "slide_type": "slide"
    },
    "tags": []
   },
   "source": [
    "# Using `pathlib`\n",
    "\n",
    "And `glob(\"**...\")` for recursive descent."
   ]
  },
  {
   "cell_type": "code",
   "execution_count": 39,
   "id": "91a47145-7f8c-403f-99e2-2fd80a5bbb4d",
   "metadata": {
    "tags": []
   },
   "outputs": [],
   "source": [
    "import pathlib\n",
    "import subprocess\n",
    "\n",
    "class App2:\n",
    "    def run(self, input: pathlib.Path, output: pathlib.Path) -> None:\n",
    "        with input.open() as source:\n",
    "            with output.open('w') as target:\n",
    "                subprocess.run([\"python\", \"app2.py\"], stdin=source, stdout=target, check=True)\n",
    "\n",
    "def find_and_exec():\n",
    "    app2 = App2()\n",
    "    for path in pathlib.Path.cwd().glob(\"**/*_a2.txt\"):\n",
    "        app2.run(path, pathlib.Path(f\"{path.name}.out\"))\n",
    "    \n",
    "def main():\n",
    "    find_and_exec()\n",
    "\n",
    "if __name__ == \"__main__\":\n",
    "    main()"
   ]
  },
  {
   "cell_type": "markdown",
   "id": "eaee502b-3296-46f6-83f0-421778b1ff04",
   "metadata": {
    "slideshow": {
     "slide_type": "slide"
    },
    "tags": []
   },
   "source": [
    "Or this...\n",
    "\n",
    "\n",
    "```sh\n",
    "find . \\( -name '*_a2.txt' -or -name '*.txt.out' \\) -print -delete >cleanup.log\n",
    "```"
   ]
  },
  {
   "cell_type": "code",
   "execution_count": 52,
   "id": "b047e310-e2d3-412d-9180-0768399cf035",
   "metadata": {
    "slideshow": {
     "slide_type": "slide"
    },
    "tags": []
   },
   "outputs": [],
   "source": [
    "import pathlib\n",
    "import itertools\n",
    "import contextlib\n",
    "\n",
    "def main():\n",
    "    matches = itertools.chain(\n",
    "        pathlib.Path.cwd().glob(\"**/*_a2.txt\"),\n",
    "        pathlib.Path.cwd().glob(\"**/*.txt.out\")\n",
    "    )\n",
    "    for path in matches:\n",
    "        print(path)\n",
    "        path.unlink()\n",
    "\n",
    "if __name__ == \"__main__\":\n",
    "    log = pathlib.Path(\"cleanup.log\")\n",
    "    with log.open(\"w\") as log_file:\n",
    "        with contextlib.redirect_stdout(log_file):\n",
    "            main()"
   ]
  },
  {
   "cell_type": "markdown",
   "id": "3958b7d0-03bd-4269-8a99-845d10bc8319",
   "metadata": {
    "slideshow": {
     "slide_type": "slide"
    },
    "tags": []
   },
   "source": [
    "# grep | sed | awk\n",
    "\n",
    "The ``grep`` app, like ``ls``, is acceptable for interactive use.\n",
    "\n",
    "**Interactive**\n",
    "\n",
    "But. Not this.\n",
    "\n",
    "```sh\n",
    "for d in ${DIRECTORIES}\n",
    "do\n",
    "    fixups=`grep --with-filename 'print\\s*(' ${d}/*.py | awk -F: '{print $1}' | sort -u`\n",
    "    for f in fixups\n",
    "    do\n",
    "        echo fixing ${f}\n",
    "        cat $f | sed 's/print/logger.info/' | awk 'BEGIN {print \"import logging\\nlogger = logging.getLogger(__file__)\\n\"} {print $0}' > ${f}.new\n",
    "    done\n",
    "done\n",
    "```"
   ]
  },
  {
   "cell_type": "markdown",
   "id": "d8b765c4-1089-4e0e-8ae7-2c92668895b3",
   "metadata": {
    "slideshow": {
     "slide_type": "slide"
    },
    "tags": []
   },
   "source": [
    "# Stop. Breathe. Think.\n",
    "\n",
    "What are you trying to do?\n",
    "\n",
    "Find and update all Python modules with print?\n",
    "\n",
    "1. Don't parse Python (or HTML or JSON) with ``grep``.\n",
    "\n",
    "2. Don't make a bewilderingly opaque shell script.\n",
    "\n",
    "Even if you *think* it's a one-time special case that will never be used again.\n",
    "\n",
    "There are **never** one-time special cases."
   ]
  },
  {
   "cell_type": "markdown",
   "id": "9ea3fd3e-4eb3-41e3-b48d-c7639506727e",
   "metadata": {
    "slideshow": {
     "slide_type": "slide"
    },
    "tags": []
   },
   "source": [
    "# Parsing\n",
    "\n",
    "Extracting from JSON/HTML/XML/TOML/CSV\n",
    "\n",
    "Often... RESTful clients done poorly.\n",
    "\n",
    "```sh\n",
    "repos=`curl https://api.github.com/users/slott56 | jq '.repos_url'`\n",
    "curl $repos\n",
    "```\n",
    "\n",
    "Don't. \n",
    "\n",
    "So many unhandled edge cases... \n",
    "\n",
    "-  Timeouts\n",
    "-  API version changes\n",
    "-  Optional attributes\n",
    "-  Zero-length lists"
   ]
  },
  {
   "cell_type": "markdown",
   "id": "aac24941-42f8-4e5e-80c9-29528a8ada14",
   "metadata": {
    "slideshow": {
     "slide_type": "slide"
    },
    "tags": []
   },
   "source": [
    "# Concurrent pipelines\n",
    "\n",
    "You have `app | app` or `app & app &` in the shell.\n",
    "\n",
    "- And it's not a `grep | awk | sed` kind of thing\n",
    "\n",
    "- Real long-running apps. Not fake programming via pipeline hackery.\n",
    "\n",
    "Use https://cgarciae.github.io/pypeln/ or https://www.dask.org or https://github.com/pytoolz/toolz\n",
    "\n",
    "The shell's pipeline is something it does well. Hard to draw a line here"
   ]
  },
  {
   "cell_type": "markdown",
   "id": "d33bebb4-5fdc-453f-833e-ed0ac892587b",
   "metadata": {
    "slideshow": {
     "slide_type": "slide"
    },
    "tags": []
   },
   "source": [
    "# 4. Conclusion\n",
    "\n",
    "The **only** thing the shell should be used for is to launch your Python apps.\n",
    "\n",
    "Safe Shell Scripts are Short\n",
    "\n",
    "Short Means: (1) Set the environment; (2) Start Python."
   ]
  },
  {
   "cell_type": "markdown",
   "id": "2685ce06-7c5a-46a5-9c3f-31cf18025770",
   "metadata": {
    "slideshow": {
     "slide_type": "slide"
    },
    "tags": []
   },
   "source": [
    "# The Myth of One-Time Scripts\n",
    "\n",
    "Mgr: \"It's a simple one-time script. You don't need to write an app.\"\n",
    "\n",
    "Dev: \"Testing is essential.\"\n",
    "\n",
    "Mgr: \"It won't have a catastrophic impact. You can simply clean up any problems.\"\n",
    "\n",
    "Dev: \"**It's another example of the X and Y scripts we ran last month.**\" ⬅️ This 💯\n",
    "\n",
    "Mgr: \"Right. It's a simple copy and paste X or Y, making simple changes for this.\"\n",
    "\n",
    "Dev: \"A generalization-specialization is best handled with an OO programming language. Python.\"\n",
    "\n",
    "continued..."
   ]
  },
  {
   "cell_type": "markdown",
   "id": "8c52e92a-c517-4913-a0e0-997d6cf9db64",
   "metadata": {
    "slideshow": {
     "slide_type": "subslide"
    },
    "tags": []
   },
   "source": [
    "## Myth, continued...\n",
    "\n",
    "Mgr: \"It's simple filesystem changes to cleanup a known bug.\"\n",
    "\n",
    "Dev: \"Pathlib and shutil do these.\"\n",
    "\n",
    "Mgr: \"It's a simple search throuh JSON files.\"\n",
    "\n",
    "Dev: \"JSON parsing is a first-class part of Python. Also. Nothing is simple, no matter how many times you say it.\""
   ]
  },
  {
   "cell_type": "markdown",
   "id": "34049728-ef48-4dc1-b3ea-f09221051961",
   "metadata": {
    "jp-MarkdownHeadingCollapsed": true,
    "slideshow": {
     "slide_type": "slide"
    },
    "tags": []
   },
   "source": [
    "# Common script-writing contexts\n",
    "\n",
    "Places we justify shell scripts:\n",
    "\n",
    "1. First-class part of the app. Written in the shell for no *good* reason. (The bad reason is to avoid testing.)\n",
    "\n",
    "2. OS administrative part of an app. Allow admins to tweak the shell scripts. (Unrealiable after manual tweaks.)\n",
    "\n",
    "3. Semi-permanent Bug-fixes and workarounds. (Architectural nightmare: what system of record owns the hack?)\n",
    "\n",
    "4. Cleanup after installation or upgrade. (Auditing nightmare.)\n",
    "\n",
    "5. Installation...\n",
    "\n",
    "TL;DR: failing to include testability, configurability, or reliability"
   ]
  },
  {
   "cell_type": "markdown",
   "id": "36a09ed9-02aa-4aa8-9fd5-3a70bdab0886",
   "metadata": {
    "slideshow": {
     "slide_type": "slide"
    },
    "tags": []
   },
   "source": [
    "# I need to write an installer\n",
    "\n",
    "Alternative solutions the **Bootstrap Problem**.\n",
    "\n",
    "- Assume a given shell is part of the OS. zsh? bash? (**Pick one & hope.**)\n",
    "\n",
    "- Install some tooling prior to installing your app.\n",
    "\n",
    "  - Miniconda: https://docs.conda.io/en/latest/miniconda.html\n",
    "  \n",
    "  - With miniconda, install Python\n",
    "  \n",
    "  - With Python do your installation, using real programming. \n",
    "  \n",
    "      - Tested. Auditable. Reliable. Known Configuration Options.\n",
    "  \n",
    "  - If miniconda won't install? Your shell script wouldn't have worked, either.\n",
    "  \n",
    "- Install [Docker](https://www.docker.com)\n",
    "\n",
    "- `py2app` and `py2exe`"
   ]
  },
  {
   "cell_type": "markdown",
   "id": "308ca6b0-e051-43fc-8f01-dd7df97fcdac",
   "metadata": {
    "slideshow": {
     "slide_type": "slide"
    },
    "tags": []
   },
   "source": [
    "# Design Patterns\n",
    "\n",
    "- Define classes following the **Command** pattern for stateful operations.\n",
    "\n",
    "- Define a composite sequence-of-command object for multi-step operations.\n",
    "\n",
    "- Use a processing pool (via `concurrent.futures`) for concurrent operations.\n",
    "\n",
    "- Formalize configurations via Python module that's included into the app.\n",
    "\n",
    "- All modules use `logging` to define loggers, only a single top-level command-line app does the configuration.\n",
    "\n",
    "- Follow the `git` pattern with a (single) parent app that includes *all* the children and admin things and tasks and special cases and workarounds and cleanups and extensions."
   ]
  },
  {
   "cell_type": "markdown",
   "id": "c6899ebd-a2a3-4eb6-9d12-eb14d181a185",
   "metadata": {
    "slideshow": {
     "slide_type": "slide"
    },
    "tags": []
   },
   "source": [
    "# The Shell is Awful\n",
    "\n",
    "## Hard (almost impossible) to test\n",
    "\n",
    "## Too easy to tweak and break\n",
    "\n",
    "## Very hard to read and understand\n",
    "\n",
    "## Hard to handle edge cases and exceptions\n",
    "\n",
    "Use it sparingly.\n"
   ]
  }
 ],
 "metadata": {
  "kernelspec": {
   "display_name": "Python 3 (ipykernel)",
   "language": "python",
   "name": "python3"
  },
  "language_info": {
   "codemirror_mode": {
    "name": "ipython",
    "version": 3
   },
   "file_extension": ".py",
   "mimetype": "text/x-python",
   "name": "python",
   "nbconvert_exporter": "python",
   "pygments_lexer": "ipython3",
   "version": "3.10.0"
  }
 },
 "nbformat": 4,
 "nbformat_minor": 5
}
